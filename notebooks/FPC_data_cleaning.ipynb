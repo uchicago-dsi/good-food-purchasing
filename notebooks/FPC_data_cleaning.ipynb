{
 "cells": [
  {
   "cell_type": "code",
   "execution_count": 154,
   "metadata": {},
   "outputs": [],
   "source": [
    "from huggingface_hub import notebook_login\n",
    "import pandas as pd\n",
    "from datasets import Dataset\n",
    "from sklearn.model_selection import train_test_split\n",
    "from sklearn.utils import shuffle\n",
    "from transformers import AutoModelForSequenceClassification, TrainingArguments, Trainer\n",
    "#from google.colab import drive\n",
    "from transformers import AutoTokenizer\n",
    "from transformers import DataCollatorWithPadding\n",
    "import evaluate\n",
    "import numpy as np\n",
    "from thefuzz import fuzz\n",
    "from thefuzz import process\n",
    "import dedupe\n",
    "import pandas_dedupe"
   ]
  },
  {
   "cell_type": "code",
   "execution_count": 155,
   "metadata": {},
   "outputs": [],
   "source": [
    "complete_food_data = pd.read_excel('/Users/anthonyhakim/DSI/good-food-purchasing/data/raw/Name Normalization_Combined_Example.xlsx')"
   ]
  },
  {
   "cell_type": "code",
   "execution_count": 156,
   "metadata": {},
   "outputs": [],
   "source": [
    "columns_list = ['Product Type', 'Food Product Category']\n",
    "renaming_mapping = {'Product Type': 'text', 'Food Product Category': 'labels'}"
   ]
  },
  {
   "cell_type": "code",
   "execution_count": 157,
   "metadata": {},
   "outputs": [],
   "source": [
    "class DataSet():\n",
    "    \n",
    "    def __init__(self, dataframe):\n",
    "        self.data = dataframe\n",
    "        self.labels_grouping = None\n",
    "        self.threshold = None\n",
    "        self.dataset_observations = len(self.data)\n",
    "        \n",
    "    def clean_data(self, columns_list: list, renaming_mapping: dict) -> pd.DataFrame:\n",
    "    \n",
    "        self.data = self.data[columns_list]\n",
    "        self.data.rename(columns=renaming_mapping, inplace=True)\n",
    "        self.data['labels'] = self.data['labels'].str.lower().str.split(',').str[0].str.strip()\n",
    "        self.data.dropna(inplace=True)\n",
    "        self.data.reset_index(drop=True, inplace=True)\n",
    "        self.data['labels'] = self.data['labels'].str.replace('prequalified: ', '')\n",
    "        self.data = self.data.drop_duplicates().reset_index(drop=True)\n",
    "    \n",
    "    def group_labels(self, category: str, category_label: str, labels_column = 'labels', matching_function= fuzz.ratio, thresh = 75) -> dict:\n",
    "        \n",
    "        self.threshold = thresh\n",
    "    \n",
    "        #subset dataframe by category\n",
    "        if category or category_label == None:\n",
    "            column_name = self.data[[labels_column]]\n",
    "        else:\n",
    "            column_name = self.data[self.data[category] == category_label][[labels_column]]\n",
    "        \n",
    "        column_name['value_counts_column'] = column_name['labels'].map(column_name['labels'].value_counts())\n",
    "        column_name = column_name.sort_values('value_counts_column', ascending=False).reset_index(drop=True)\n",
    "        \n",
    "        column_name = column_name.labels.values.flatten().tolist()\n",
    "        print('number of non unique entries in column', len(column_name))\n",
    "        \n",
    "        #Create list of dictionaries of subgroups\n",
    "        label_groups = {}\n",
    "        for label_entry in column_name:\n",
    "            counter = 0\n",
    "            for label_group_key in label_groups.keys():\n",
    "                if matching_function(label_entry, label_group_key) >= thresh:\n",
    "                    counter += 1\n",
    "                    if label_entry != label_group_key:\n",
    "                        label_groups[label_group_key].append(label_entry)\n",
    "            if counter == 0:\n",
    "                label_groups[label_entry] = []\n",
    "                \n",
    "        self.labels_grouping = label_groups\n",
    "        \n",
    "    def clean_labels(self, add_list, rm_list):\n",
    "        \n",
    "        def alter_food_set(labels_set, add_list, rm_list):\n",
    "            print('number of elements in food set before additions', len(labels_set))\n",
    "            labels_set.update(add_list)\n",
    "            labels_set.difference_update(rm_list)\n",
    "            \n",
    "            print('number of elements in food set after additions', len(labels_set))\n",
    "            \n",
    "        def add_and_remove_keys_from_dict(input_dict, keys_to_add, keys_to_remove, default_value = []):\n",
    "            for key in keys_to_remove:\n",
    "                if key in input_dict:\n",
    "                    del input_dict[key]\n",
    "\n",
    "            for key in keys_to_add:\n",
    "                if key not in input_dict:\n",
    "                    input_dict[key] = default_value\n",
    "            \n",
    "        def find_best_match(misspelled_value, choices):\n",
    "            best_match = process.extractOne(misspelled_value, choices)\n",
    "            return best_match[0]\n",
    "            \n",
    "        self.add_list = add_list\n",
    "        self.rm_list = rm_list\n",
    "        self.labels_set = set(self.labels_grouping)\n",
    "        alter_food_set(self.labels_set, self.add_list, self.rm_list)\n",
    "        add_and_remove_keys_from_dict(self.labels_grouping, self.add_list, self.rm_list)\n",
    "        \n",
    "        self.data['correct_labels'] = self.data['labels'].apply(lambda x: find_best_match(x, self.labels_set))\n",
    "        self.data = self.data[['text', 'correct_labels']]\n",
    "        self.data.rename(columns={'correct_labels': 'labels'}, inplace=True)\n",
    "\n",
    "    def factorize_dataset(self):\n",
    "        self.data['labels'], self.factorized_label_mapping = pd.factorize(self.data['labels'])\n",
    "        \n",
    "    def shuffle_dataset(self):\n",
    "        self.data = shuffle(self.data)\n",
    "        self.data.reset_index(drop=True, inplace=True)"
   ]
  },
  {
   "cell_type": "code",
   "execution_count": 174,
   "metadata": {},
   "outputs": [],
   "source": [
    "fpg_dataset = DataSet(complete_food_data)"
   ]
  },
  {
   "cell_type": "code",
   "execution_count": 175,
   "metadata": {},
   "outputs": [
    {
     "name": "stderr",
     "output_type": "stream",
     "text": [
      "/var/folders/6h/z9d4c_893fvfks6175tjrr940000gn/T/ipykernel_43262/2752918412.py:12: SettingWithCopyWarning: \n",
      "A value is trying to be set on a copy of a slice from a DataFrame\n",
      "\n",
      "See the caveats in the documentation: https://pandas.pydata.org/pandas-docs/stable/user_guide/indexing.html#returning-a-view-versus-a-copy\n",
      "  self.data.rename(columns=renaming_mapping, inplace=True)\n",
      "/var/folders/6h/z9d4c_893fvfks6175tjrr940000gn/T/ipykernel_43262/2752918412.py:13: SettingWithCopyWarning: \n",
      "A value is trying to be set on a copy of a slice from a DataFrame.\n",
      "Try using .loc[row_indexer,col_indexer] = value instead\n",
      "\n",
      "See the caveats in the documentation: https://pandas.pydata.org/pandas-docs/stable/user_guide/indexing.html#returning-a-view-versus-a-copy\n",
      "  self.data['labels'] = self.data['labels'].str.lower().str.split(',').str[0].str.strip()\n",
      "/var/folders/6h/z9d4c_893fvfks6175tjrr940000gn/T/ipykernel_43262/2752918412.py:14: SettingWithCopyWarning: \n",
      "A value is trying to be set on a copy of a slice from a DataFrame\n",
      "\n",
      "See the caveats in the documentation: https://pandas.pydata.org/pandas-docs/stable/user_guide/indexing.html#returning-a-view-versus-a-copy\n",
      "  self.data.dropna(inplace=True)\n",
      "/var/folders/6h/z9d4c_893fvfks6175tjrr940000gn/T/ipykernel_43262/2752918412.py:16: SettingWithCopyWarning: \n",
      "A value is trying to be set on a copy of a slice from a DataFrame.\n",
      "Try using .loc[row_indexer,col_indexer] = value instead\n",
      "\n",
      "See the caveats in the documentation: https://pandas.pydata.org/pandas-docs/stable/user_guide/indexing.html#returning-a-view-versus-a-copy\n",
      "  self.data['labels'] = self.data['labels'].str.replace('prequalified: ', '')\n"
     ]
    }
   ],
   "source": [
    "fpg_dataset.clean_data(columns_list, renaming_mapping)"
   ]
  },
  {
   "cell_type": "code",
   "execution_count": 176,
   "metadata": {},
   "outputs": [
    {
     "data": {
      "text/html": [
       "<div>\n",
       "<style scoped>\n",
       "    .dataframe tbody tr th:only-of-type {\n",
       "        vertical-align: middle;\n",
       "    }\n",
       "\n",
       "    .dataframe tbody tr th {\n",
       "        vertical-align: top;\n",
       "    }\n",
       "\n",
       "    .dataframe thead th {\n",
       "        text-align: right;\n",
       "    }\n",
       "</style>\n",
       "<table border=\"1\" class=\"dataframe\">\n",
       "  <thead>\n",
       "    <tr style=\"text-align: right;\">\n",
       "      <th></th>\n",
       "      <th>text</th>\n",
       "      <th>labels</th>\n",
       "    </tr>\n",
       "  </thead>\n",
       "  <tbody>\n",
       "    <tr>\n",
       "      <th>0</th>\n",
       "      <td>Carrot Baby Petite Peeled</td>\n",
       "      <td>fruit</td>\n",
       "    </tr>\n",
       "    <tr>\n",
       "      <th>1</th>\n",
       "      <td>Kiwi 33 count</td>\n",
       "      <td>fruit</td>\n",
       "    </tr>\n",
       "    <tr>\n",
       "      <th>2</th>\n",
       "      <td>Pear D' Anjou 135ct</td>\n",
       "      <td>fruit</td>\n",
       "    </tr>\n",
       "    <tr>\n",
       "      <th>3</th>\n",
       "      <td>Sweet Potato Peeled/Cut 1\"</td>\n",
       "      <td>roots &amp; tubers</td>\n",
       "    </tr>\n",
       "    <tr>\n",
       "      <th>4</th>\n",
       "      <td>Sweet Potato Dice 3/4\" Peeled</td>\n",
       "      <td>roots &amp; tubers</td>\n",
       "    </tr>\n",
       "    <tr>\n",
       "      <th>...</th>\n",
       "      <td>...</td>\n",
       "      <td>...</td>\n",
       "    </tr>\n",
       "    <tr>\n",
       "      <th>5348</th>\n",
       "      <td>FC Beef Burger  69101R Daily Choice 21#</td>\n",
       "      <td>beef</td>\n",
       "    </tr>\n",
       "    <tr>\n",
       "      <th>5349</th>\n",
       "      <td>F/C Beef Taco Filling 4/5#</td>\n",
       "      <td>beef</td>\n",
       "    </tr>\n",
       "    <tr>\n",
       "      <th>5350</th>\n",
       "      <td>BEEF MEATBALLS NO SAUCE 1 OZ  10 LB</td>\n",
       "      <td>beef</td>\n",
       "    </tr>\n",
       "    <tr>\n",
       "      <th>5351</th>\n",
       "      <td>Beef Hot Dog  15#  88719  Applegate 144ct</td>\n",
       "      <td>beef</td>\n",
       "    </tr>\n",
       "    <tr>\n",
       "      <th>5352</th>\n",
       "      <td>Beef Franks 96ct  026020 Ball Park 6/30oz</td>\n",
       "      <td>beef</td>\n",
       "    </tr>\n",
       "  </tbody>\n",
       "</table>\n",
       "<p>5353 rows × 2 columns</p>\n",
       "</div>"
      ],
      "text/plain": [
       "                                           text          labels\n",
       "0                     Carrot Baby Petite Peeled           fruit\n",
       "1                                 Kiwi 33 count           fruit\n",
       "2                           Pear D' Anjou 135ct           fruit\n",
       "3                    Sweet Potato Peeled/Cut 1\"  roots & tubers\n",
       "4                 Sweet Potato Dice 3/4\" Peeled  roots & tubers\n",
       "...                                         ...             ...\n",
       "5348  FC Beef Burger  69101R Daily Choice 21#              beef\n",
       "5349                 F/C Beef Taco Filling 4/5#            beef\n",
       "5350        BEEF MEATBALLS NO SAUCE 1 OZ  10 LB            beef\n",
       "5351  Beef Hot Dog  15#  88719  Applegate 144ct            beef\n",
       "5352  Beef Franks 96ct  026020 Ball Park 6/30oz            beef\n",
       "\n",
       "[5353 rows x 2 columns]"
      ]
     },
     "execution_count": 176,
     "metadata": {},
     "output_type": "execute_result"
    }
   ],
   "source": [
    "fpg_dataset.data"
   ]
  },
  {
   "cell_type": "code",
   "execution_count": 177,
   "metadata": {},
   "outputs": [
    {
     "name": "stdout",
     "output_type": "stream",
     "text": [
      "number of non unique entries in column 5353\n"
     ]
    }
   ],
   "source": [
    "fpg_dataset.group_labels(category=None ,category_label=None, thresh=85, matching_function=fuzz.ratio)"
   ]
  },
  {
   "cell_type": "code",
   "execution_count": 178,
   "metadata": {},
   "outputs": [
    {
     "data": {
      "text/plain": [
       "{'condiments & snacks': [],\n",
       " 'meals': [],\n",
       " 'vegetables': [],\n",
       " 'non-food': [],\n",
       " 'grain products': [],\n",
       " 'beverages': [],\n",
       " 'fruit': [],\n",
       " 'chicken': [],\n",
       " 'roots & tubers': [],\n",
       " 'beef': [],\n",
       " 'cheese': [],\n",
       " 'pork': [],\n",
       " 'milk': [],\n",
       " 'milk & dairy': [],\n",
       " 'seafood': [],\n",
       " 'turkey': [],\n",
       " 'yogurt': [],\n",
       " 'legumes': [],\n",
       " 'eggs': [],\n",
       " 'tree nuts & seeds': [],\n",
       " 'fish (wild)': [],\n",
       " 'rice': [],\n",
       " 'meat': ['meats', 'meats', 'meats'],\n",
       " 'butter': [],\n",
       " 'fish (farm-raised)': ['fish (farmed-raised)', 'fish (farmed-raised)'],\n",
       " 'produce': [],\n",
       " 'turkey & other poultry': [],\n",
       " 'bread': []}"
      ]
     },
     "execution_count": 178,
     "metadata": {},
     "output_type": "execute_result"
    }
   ],
   "source": [
    "fpg_dataset.labels_grouping"
   ]
  },
  {
   "cell_type": "code",
   "execution_count": 179,
   "metadata": {},
   "outputs": [],
   "source": [
    "fpg_add_list =['anthony']\n",
    "fpg_rm_list =['turkey']"
   ]
  },
  {
   "cell_type": "code",
   "execution_count": 180,
   "metadata": {},
   "outputs": [
    {
     "name": "stdout",
     "output_type": "stream",
     "text": [
      "number of elements in food set before additions 28\n",
      "number of elements in food set after additions 28\n"
     ]
    },
    {
     "name": "stderr",
     "output_type": "stream",
     "text": [
      "/var/folders/6h/z9d4c_893fvfks6175tjrr940000gn/T/ipykernel_43262/2752918412.py:79: SettingWithCopyWarning: \n",
      "A value is trying to be set on a copy of a slice from a DataFrame\n",
      "\n",
      "See the caveats in the documentation: https://pandas.pydata.org/pandas-docs/stable/user_guide/indexing.html#returning-a-view-versus-a-copy\n",
      "  self.data.rename(columns={'correct_labels': 'labels'}, inplace=True)\n"
     ]
    }
   ],
   "source": [
    "fpg_dataset.clean_labels(fpg_add_list, fpg_rm_list)"
   ]
  },
  {
   "cell_type": "code",
   "execution_count": 181,
   "metadata": {},
   "outputs": [
    {
     "data": {
      "text/plain": [
       "{'condiments & snacks': [],\n",
       " 'meals': [],\n",
       " 'vegetables': [],\n",
       " 'non-food': [],\n",
       " 'grain products': [],\n",
       " 'beverages': [],\n",
       " 'fruit': [],\n",
       " 'chicken': [],\n",
       " 'roots & tubers': [],\n",
       " 'beef': [],\n",
       " 'cheese': [],\n",
       " 'pork': [],\n",
       " 'milk': [],\n",
       " 'milk & dairy': [],\n",
       " 'seafood': [],\n",
       " 'yogurt': [],\n",
       " 'legumes': [],\n",
       " 'eggs': [],\n",
       " 'tree nuts & seeds': [],\n",
       " 'fish (wild)': [],\n",
       " 'rice': [],\n",
       " 'meat': ['meats', 'meats', 'meats'],\n",
       " 'butter': [],\n",
       " 'fish (farm-raised)': ['fish (farmed-raised)', 'fish (farmed-raised)'],\n",
       " 'produce': [],\n",
       " 'turkey & other poultry': [],\n",
       " 'bread': [],\n",
       " 'anthony': []}"
      ]
     },
     "execution_count": 181,
     "metadata": {},
     "output_type": "execute_result"
    }
   ],
   "source": [
    "fpg_dataset.labels_grouping"
   ]
  },
  {
   "cell_type": "code",
   "execution_count": 182,
   "metadata": {},
   "outputs": [
    {
     "data": {
      "text/html": [
       "<div>\n",
       "<style scoped>\n",
       "    .dataframe tbody tr th:only-of-type {\n",
       "        vertical-align: middle;\n",
       "    }\n",
       "\n",
       "    .dataframe tbody tr th {\n",
       "        vertical-align: top;\n",
       "    }\n",
       "\n",
       "    .dataframe thead th {\n",
       "        text-align: right;\n",
       "    }\n",
       "</style>\n",
       "<table border=\"1\" class=\"dataframe\">\n",
       "  <thead>\n",
       "    <tr style=\"text-align: right;\">\n",
       "      <th></th>\n",
       "      <th>text</th>\n",
       "      <th>labels</th>\n",
       "    </tr>\n",
       "  </thead>\n",
       "  <tbody>\n",
       "    <tr>\n",
       "      <th>0</th>\n",
       "      <td>Carrot Baby Petite Peeled</td>\n",
       "      <td>fruit</td>\n",
       "    </tr>\n",
       "    <tr>\n",
       "      <th>1</th>\n",
       "      <td>Kiwi 33 count</td>\n",
       "      <td>fruit</td>\n",
       "    </tr>\n",
       "    <tr>\n",
       "      <th>2</th>\n",
       "      <td>Pear D' Anjou 135ct</td>\n",
       "      <td>fruit</td>\n",
       "    </tr>\n",
       "    <tr>\n",
       "      <th>3</th>\n",
       "      <td>Sweet Potato Peeled/Cut 1\"</td>\n",
       "      <td>roots &amp; tubers</td>\n",
       "    </tr>\n",
       "    <tr>\n",
       "      <th>4</th>\n",
       "      <td>Sweet Potato Dice 3/4\" Peeled</td>\n",
       "      <td>roots &amp; tubers</td>\n",
       "    </tr>\n",
       "    <tr>\n",
       "      <th>...</th>\n",
       "      <td>...</td>\n",
       "      <td>...</td>\n",
       "    </tr>\n",
       "    <tr>\n",
       "      <th>5348</th>\n",
       "      <td>FC Beef Burger  69101R Daily Choice 21#</td>\n",
       "      <td>beef</td>\n",
       "    </tr>\n",
       "    <tr>\n",
       "      <th>5349</th>\n",
       "      <td>F/C Beef Taco Filling 4/5#</td>\n",
       "      <td>beef</td>\n",
       "    </tr>\n",
       "    <tr>\n",
       "      <th>5350</th>\n",
       "      <td>BEEF MEATBALLS NO SAUCE 1 OZ  10 LB</td>\n",
       "      <td>beef</td>\n",
       "    </tr>\n",
       "    <tr>\n",
       "      <th>5351</th>\n",
       "      <td>Beef Hot Dog  15#  88719  Applegate 144ct</td>\n",
       "      <td>beef</td>\n",
       "    </tr>\n",
       "    <tr>\n",
       "      <th>5352</th>\n",
       "      <td>Beef Franks 96ct  026020 Ball Park 6/30oz</td>\n",
       "      <td>beef</td>\n",
       "    </tr>\n",
       "  </tbody>\n",
       "</table>\n",
       "<p>5353 rows × 2 columns</p>\n",
       "</div>"
      ],
      "text/plain": [
       "                                           text          labels\n",
       "0                     Carrot Baby Petite Peeled           fruit\n",
       "1                                 Kiwi 33 count           fruit\n",
       "2                           Pear D' Anjou 135ct           fruit\n",
       "3                    Sweet Potato Peeled/Cut 1\"  roots & tubers\n",
       "4                 Sweet Potato Dice 3/4\" Peeled  roots & tubers\n",
       "...                                         ...             ...\n",
       "5348  FC Beef Burger  69101R Daily Choice 21#              beef\n",
       "5349                 F/C Beef Taco Filling 4/5#            beef\n",
       "5350        BEEF MEATBALLS NO SAUCE 1 OZ  10 LB            beef\n",
       "5351  Beef Hot Dog  15#  88719  Applegate 144ct            beef\n",
       "5352  Beef Franks 96ct  026020 Ball Park 6/30oz            beef\n",
       "\n",
       "[5353 rows x 2 columns]"
      ]
     },
     "execution_count": 182,
     "metadata": {},
     "output_type": "execute_result"
    }
   ],
   "source": [
    "fpg_dataset.data"
   ]
  },
  {
   "cell_type": "code",
   "execution_count": 184,
   "metadata": {},
   "outputs": [
    {
     "name": "stderr",
     "output_type": "stream",
     "text": [
      "/var/folders/6h/z9d4c_893fvfks6175tjrr940000gn/T/ipykernel_43262/2752918412.py:82: SettingWithCopyWarning: \n",
      "A value is trying to be set on a copy of a slice from a DataFrame.\n",
      "Try using .loc[row_indexer,col_indexer] = value instead\n",
      "\n",
      "See the caveats in the documentation: https://pandas.pydata.org/pandas-docs/stable/user_guide/indexing.html#returning-a-view-versus-a-copy\n",
      "  self.data['labels'], self.factorized_label_mapping = pd.factorize(self.data['labels'])\n"
     ]
    }
   ],
   "source": [
    "fpg_dataset.factorize_dataset()"
   ]
  },
  {
   "cell_type": "code",
   "execution_count": 185,
   "metadata": {},
   "outputs": [
    {
     "data": {
      "text/html": [
       "<div>\n",
       "<style scoped>\n",
       "    .dataframe tbody tr th:only-of-type {\n",
       "        vertical-align: middle;\n",
       "    }\n",
       "\n",
       "    .dataframe tbody tr th {\n",
       "        vertical-align: top;\n",
       "    }\n",
       "\n",
       "    .dataframe thead th {\n",
       "        text-align: right;\n",
       "    }\n",
       "</style>\n",
       "<table border=\"1\" class=\"dataframe\">\n",
       "  <thead>\n",
       "    <tr style=\"text-align: right;\">\n",
       "      <th></th>\n",
       "      <th>text</th>\n",
       "      <th>labels</th>\n",
       "    </tr>\n",
       "  </thead>\n",
       "  <tbody>\n",
       "    <tr>\n",
       "      <th>0</th>\n",
       "      <td>Carrot Baby Petite Peeled</td>\n",
       "      <td>0</td>\n",
       "    </tr>\n",
       "    <tr>\n",
       "      <th>1</th>\n",
       "      <td>Kiwi 33 count</td>\n",
       "      <td>0</td>\n",
       "    </tr>\n",
       "    <tr>\n",
       "      <th>2</th>\n",
       "      <td>Pear D' Anjou 135ct</td>\n",
       "      <td>0</td>\n",
       "    </tr>\n",
       "    <tr>\n",
       "      <th>3</th>\n",
       "      <td>Sweet Potato Peeled/Cut 1\"</td>\n",
       "      <td>1</td>\n",
       "    </tr>\n",
       "    <tr>\n",
       "      <th>4</th>\n",
       "      <td>Sweet Potato Dice 3/4\" Peeled</td>\n",
       "      <td>1</td>\n",
       "    </tr>\n",
       "    <tr>\n",
       "      <th>...</th>\n",
       "      <td>...</td>\n",
       "      <td>...</td>\n",
       "    </tr>\n",
       "    <tr>\n",
       "      <th>5348</th>\n",
       "      <td>FC Beef Burger  69101R Daily Choice 21#</td>\n",
       "      <td>6</td>\n",
       "    </tr>\n",
       "    <tr>\n",
       "      <th>5349</th>\n",
       "      <td>F/C Beef Taco Filling 4/5#</td>\n",
       "      <td>6</td>\n",
       "    </tr>\n",
       "    <tr>\n",
       "      <th>5350</th>\n",
       "      <td>BEEF MEATBALLS NO SAUCE 1 OZ  10 LB</td>\n",
       "      <td>6</td>\n",
       "    </tr>\n",
       "    <tr>\n",
       "      <th>5351</th>\n",
       "      <td>Beef Hot Dog  15#  88719  Applegate 144ct</td>\n",
       "      <td>6</td>\n",
       "    </tr>\n",
       "    <tr>\n",
       "      <th>5352</th>\n",
       "      <td>Beef Franks 96ct  026020 Ball Park 6/30oz</td>\n",
       "      <td>6</td>\n",
       "    </tr>\n",
       "  </tbody>\n",
       "</table>\n",
       "<p>5353 rows × 2 columns</p>\n",
       "</div>"
      ],
      "text/plain": [
       "                                           text  labels\n",
       "0                     Carrot Baby Petite Peeled       0\n",
       "1                                 Kiwi 33 count       0\n",
       "2                           Pear D' Anjou 135ct       0\n",
       "3                    Sweet Potato Peeled/Cut 1\"       1\n",
       "4                 Sweet Potato Dice 3/4\" Peeled       1\n",
       "...                                         ...     ...\n",
       "5348  FC Beef Burger  69101R Daily Choice 21#         6\n",
       "5349                 F/C Beef Taco Filling 4/5#       6\n",
       "5350        BEEF MEATBALLS NO SAUCE 1 OZ  10 LB       6\n",
       "5351  Beef Hot Dog  15#  88719  Applegate 144ct       6\n",
       "5352  Beef Franks 96ct  026020 Ball Park 6/30oz       6\n",
       "\n",
       "[5353 rows x 2 columns]"
      ]
     },
     "execution_count": 185,
     "metadata": {},
     "output_type": "execute_result"
    }
   ],
   "source": [
    "fpg_dataset.data"
   ]
  },
  {
   "cell_type": "code",
   "execution_count": 186,
   "metadata": {},
   "outputs": [
    {
     "data": {
      "text/plain": [
       "Index(['fruit', 'roots & tubers', 'milk', 'grain products',\n",
       "       'condiments & snacks', 'beverages', 'beef', 'turkey & other poultry',\n",
       "       'meals', 'pork', 'milk & dairy', 'fish (wild)', 'legumes', 'chicken',\n",
       "       'cheese', 'eggs', 'non-food', 'tree nuts & seeds', 'meat', 'vegetables',\n",
       "       'seafood', 'fish (farm-raised)', 'yogurt', 'rice', 'butter', 'bread',\n",
       "       'produce'],\n",
       "      dtype='object')"
      ]
     },
     "execution_count": 186,
     "metadata": {},
     "output_type": "execute_result"
    }
   ],
   "source": [
    "fpg_dataset.factorized_label_mapping"
   ]
  },
  {
   "cell_type": "code",
   "execution_count": 191,
   "metadata": {},
   "outputs": [],
   "source": [
    "fpg_dataset.shuffle_dataset()"
   ]
  },
  {
   "cell_type": "code",
   "execution_count": 192,
   "metadata": {},
   "outputs": [
    {
     "data": {
      "text/html": [
       "<div>\n",
       "<style scoped>\n",
       "    .dataframe tbody tr th:only-of-type {\n",
       "        vertical-align: middle;\n",
       "    }\n",
       "\n",
       "    .dataframe tbody tr th {\n",
       "        vertical-align: top;\n",
       "    }\n",
       "\n",
       "    .dataframe thead th {\n",
       "        text-align: right;\n",
       "    }\n",
       "</style>\n",
       "<table border=\"1\" class=\"dataframe\">\n",
       "  <thead>\n",
       "    <tr style=\"text-align: right;\">\n",
       "      <th></th>\n",
       "      <th>text</th>\n",
       "      <th>labels</th>\n",
       "    </tr>\n",
       "  </thead>\n",
       "  <tbody>\n",
       "    <tr>\n",
       "      <th>0</th>\n",
       "      <td>CROISSANT BUTR RTB LG 3.25Z</td>\n",
       "      <td>4</td>\n",
       "    </tr>\n",
       "    <tr>\n",
       "      <th>1</th>\n",
       "      <td>POTATO BOUREKAS 96 CT 1.5 OZ (USA)</td>\n",
       "      <td>8</td>\n",
       "    </tr>\n",
       "    <tr>\n",
       "      <th>2</th>\n",
       "      <td>BEANS GARBANZO LOW SALT CANNED</td>\n",
       "      <td>12</td>\n",
       "    </tr>\n",
       "    <tr>\n",
       "      <th>3</th>\n",
       "      <td>COOKIE OREO CRUMBS MED BULK</td>\n",
       "      <td>4</td>\n",
       "    </tr>\n",
       "    <tr>\n",
       "      <th>4</th>\n",
       "      <td>BREAD SLICED CINN RAISIN 16OZ</td>\n",
       "      <td>3</td>\n",
       "    </tr>\n",
       "    <tr>\n",
       "      <th>...</th>\n",
       "      <td>...</td>\n",
       "      <td>...</td>\n",
       "    </tr>\n",
       "    <tr>\n",
       "      <th>5348</th>\n",
       "      <td>RED FRESNO CHILE 10#</td>\n",
       "      <td>19</td>\n",
       "    </tr>\n",
       "    <tr>\n",
       "      <th>5349</th>\n",
       "      <td>FC Chix Wings Sect 1/20#  Spare Time 38315</td>\n",
       "      <td>13</td>\n",
       "    </tr>\n",
       "    <tr>\n",
       "      <th>5350</th>\n",
       "      <td>BREAD SLICED PULLMAN WHITE</td>\n",
       "      <td>3</td>\n",
       "    </tr>\n",
       "    <tr>\n",
       "      <th>5351</th>\n",
       "      <td>CRUST, PIZA RICE ITLN 10.63</td>\n",
       "      <td>4</td>\n",
       "    </tr>\n",
       "    <tr>\n",
       "      <th>5352</th>\n",
       "      <td>PEPPER BANANA MILD RING</td>\n",
       "      <td>4</td>\n",
       "    </tr>\n",
       "  </tbody>\n",
       "</table>\n",
       "<p>5353 rows × 2 columns</p>\n",
       "</div>"
      ],
      "text/plain": [
       "                                            text  labels\n",
       "0                    CROISSANT BUTR RTB LG 3.25Z       4\n",
       "1             POTATO BOUREKAS 96 CT 1.5 OZ (USA)       8\n",
       "2                 BEANS GARBANZO LOW SALT CANNED      12\n",
       "3                    COOKIE OREO CRUMBS MED BULK       4\n",
       "4            BREAD SLICED CINN RAISIN 16OZ             3\n",
       "...                                          ...     ...\n",
       "5348                        RED FRESNO CHILE 10#      19\n",
       "5349  FC Chix Wings Sect 1/20#  Spare Time 38315      13\n",
       "5350         BREAD SLICED PULLMAN WHITE                3\n",
       "5351                 CRUST, PIZA RICE ITLN 10.63       4\n",
       "5352                     PEPPER BANANA MILD RING       4\n",
       "\n",
       "[5353 rows x 2 columns]"
      ]
     },
     "execution_count": 192,
     "metadata": {},
     "output_type": "execute_result"
    }
   ],
   "source": [
    "fpg_dataset.data"
   ]
  }
 ],
 "metadata": {
  "kernelspec": {
   "display_name": "dsi",
   "language": "python",
   "name": "python3"
  },
  "language_info": {
   "codemirror_mode": {
    "name": "ipython",
    "version": 3
   },
   "file_extension": ".py",
   "mimetype": "text/x-python",
   "name": "python",
   "nbconvert_exporter": "python",
   "pygments_lexer": "ipython3",
   "version": "3.11.3"
  },
  "orig_nbformat": 4
 },
 "nbformat": 4,
 "nbformat_minor": 2
}
